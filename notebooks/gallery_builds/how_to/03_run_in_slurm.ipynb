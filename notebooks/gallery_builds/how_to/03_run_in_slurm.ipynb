{
  "cells": [
    {
      "cell_type": "markdown",
      "metadata": {},
      "source": [
        "\n\n# How to run in SLURM\n\n<div class=\"alert alert-info\"><h4>Note</h4><p>This is a quick how-to on SLURM. See `here <slurm-tutorial>` for a long-form tutorial.</p></div>\n"
      ]
    },
    {
      "cell_type": "markdown",
      "metadata": {},
      "source": [
        "See the default SLURM options, used when ``slurm=True``\n\n"
      ]
    },
    {
      "cell_type": "code",
      "execution_count": null,
      "metadata": {
        "collapsed": false
      },
      "outputs": [],
      "source": [
        "import spikewrap as sw\nimport json\n\ndefault_arguments = sw.default_slurm_options()\n\nprint(\n    json.dumps(default_arguments, indent=4)  # json just for visualising output\n)"
      ]
    },
    {
      "cell_type": "markdown",
      "metadata": {},
      "source": [
        "Otherwise, we can update these as desired:\n\n"
      ]
    },
    {
      "cell_type": "code",
      "execution_count": null,
      "metadata": {
        "collapsed": false
      },
      "outputs": [],
      "source": [
        "gpu_arguments = sw.default_slurm_options(\"gpu\")\n\ngpu_arguments[\"mem_gb\"] = 60\ngpu_arguments[\"env_name\"] = \"my_conda_environment\"\n\nprint(\n    json.dumps(gpu_arguments, indent=4)\n)\n\n# and then use like:\n# session.save_preprocessed(n_jobs=12, slurm=gpu_arguments)"
      ]
    }
  ],
  "metadata": {
    "kernelspec": {
      "display_name": "Python 3",
      "language": "python",
      "name": "python3"
    },
    "language_info": {
      "codemirror_mode": {
        "name": "ipython",
        "version": 3
      },
      "file_extension": ".py",
      "mimetype": "text/x-python",
      "name": "python",
      "nbconvert_exporter": "python",
      "pygments_lexer": "ipython3",
      "version": "3.11.11"
    }
  },
  "nbformat": 4,
  "nbformat_minor": 0
}
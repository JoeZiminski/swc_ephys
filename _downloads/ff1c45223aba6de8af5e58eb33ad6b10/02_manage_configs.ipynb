{
  "cells": [
    {
      "cell_type": "markdown",
      "metadata": {},
      "source": [
        "\n\n# How to manage ``configs``\n\n<div class=\"alert alert-info\"><h4>Note</h4><p>This is a quick how-to on ``config`` management. See `here <configs-tutorial>` for a long-form tutorial.</p></div>\n"
      ]
    },
    {
      "cell_type": "markdown",
      "metadata": {},
      "source": [
        "Show available ``configs``\n\n"
      ]
    },
    {
      "cell_type": "code",
      "execution_count": null,
      "metadata": {
        "collapsed": false
      },
      "outputs": [],
      "source": [
        "import spikewrap as sw\n\nsw.show_configs(\"neuropixels+kilosort2_5\")"
      ]
    },
    {
      "cell_type": "code",
      "execution_count": null,
      "metadata": {
        "collapsed": false
      },
      "outputs": [],
      "source": [
        "print(f\"These are stored at:\\n\"\n      f\"{sw.get_configs_path()}\")"
      ]
    },
    {
      "cell_type": "markdown",
      "metadata": {},
      "source": [
        "We can create and save our own ``configs``, from the currently supported steps.\n\n"
      ]
    },
    {
      "cell_type": "code",
      "execution_count": null,
      "metadata": {
        "collapsed": false
      },
      "outputs": [],
      "source": [
        "sw.show_supported_preprocessing_steps()"
      ]
    },
    {
      "cell_type": "markdown",
      "metadata": {},
      "source": [
        "By default, these will be stored in the spikewrap configs folder (otherwise, pass the\nfull filepath to where you want to save a ``.yaml`` file). This config can now be\nused by name in ``spikewrap`` processing functions.\n\n"
      ]
    },
    {
      "cell_type": "code",
      "execution_count": null,
      "metadata": {
        "collapsed": false
      },
      "outputs": [],
      "source": [
        "config_dict = {\n    \"preprocessing\": {\n        \"1\": [\"phase_shift\", {}],\n        \"2\": [\"bandpass_filter\", {\"freq_min\": 300, \"freq_max\": 6000}],\n        \"3\": [\"common_reference\", {\"operator\": \"median\"}]\n    },\n    \"sorting\": {\n        \"kilosort2_5\": {'car': False, 'freq_min': 150}}\n}\n\nsw.save_config_dict(config_dict, \"my_config\")"
      ]
    },
    {
      "cell_type": "markdown",
      "metadata": {},
      "source": [
        "or load a ``config`` directly from ``.yaml``\n\n"
      ]
    },
    {
      "cell_type": "code",
      "execution_count": null,
      "metadata": {
        "collapsed": false
      },
      "outputs": [],
      "source": [
        "config_dict = sw.load_config_dict(\n    sw.get_configs_path() / \"neuropixels+kilosort2_5.yaml\"\n)"
      ]
    },
    {
      "cell_type": "markdown",
      "metadata": {},
      "source": [
        "use :func:`spikewrap.save_config_dict` to save this to the spikewrap with\na keyword name, to use by name in processing functions.\n"
      ]
    }
  ],
  "metadata": {
    "kernelspec": {
      "display_name": "Python 3",
      "language": "python",
      "name": "python3"
    },
    "language_info": {
      "codemirror_mode": {
        "name": "ipython",
        "version": 3
      },
      "file_extension": ".py",
      "mimetype": "text/x-python",
      "name": "python",
      "nbconvert_exporter": "python",
      "pygments_lexer": "ipython3",
      "version": "3.11.11"
    }
  },
  "nbformat": 4,
  "nbformat_minor": 0
}